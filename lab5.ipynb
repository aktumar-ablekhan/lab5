{
 "cells": [
  {
   "cell_type": "code",
   "execution_count": 9,
   "id": "3d6d0d33-bf4f-404c-ac12-0b8bd47227ba",
   "metadata": {},
   "outputs": [
    {
     "name": "stdout",
     "output_type": "stream",
     "text": [
      "Yes\n",
      "Yes\n",
      "Yes\n",
      "No\n"
     ]
    }
   ],
   "source": [
    "# 1 task\n",
    "import re\n",
    "\n",
    "rule = r\"^ab*$\"\n",
    "\n",
    "def check_a(a):\n",
    "    if re.findall(rule, a):\n",
    "        print(\"Yes\")\n",
    "    else:\n",
    "        print(\"No\")\n",
    "\n",
    "check_a(\"a\")\n",
    "check_a(\"ab\")\n",
    "check_a(\"abb\")\n",
    "check_a(\"aa\")"
   ]
  },
  {
   "cell_type": "code",
   "execution_count": 13,
   "id": "fffabc40-68d1-4d74-9a2d-112b0041d752",
   "metadata": {},
   "outputs": [
    {
     "name": "stdout",
     "output_type": "stream",
     "text": [
      "No\n",
      "No\n",
      "Yes\n",
      "No\n",
      "Yes\n",
      "Yes\n"
     ]
    }
   ],
   "source": [
    "# 2 task\n",
    "import re\n",
    "\n",
    "rule = r\"ab{2,3}\"\n",
    "\n",
    "def check_a(a):\n",
    "    if re.findall(rule, a):\n",
    "        print(\"Yes\")\n",
    "    else:\n",
    "        print(\"No\")\n",
    "\n",
    "check_a(\"a\")\n",
    "check_a(\"ab\")\n",
    "check_a(\"abb\")\n",
    "check_a(\"aa\")\n",
    "check_a(\"abbb\")\n",
    "check_a(\"abbbb\")"
   ]
  },
  {
   "cell_type": "code",
   "execution_count": 23,
   "id": "53979f96-0ef9-460e-910e-c3f35844a2a4",
   "metadata": {},
   "outputs": [
    {
     "name": "stdout",
     "output_type": "stream",
     "text": [
      "Yes\n",
      "No\n"
     ]
    }
   ],
   "source": [
    "# 3 task\n",
    "import re\n",
    "\n",
    "rule = r\"[a-z]+_[a-z]+\"\n",
    "\n",
    "def check_a(a):\n",
    "    if re.fullmatch(rule, a):\n",
    "        print(\"Yes\")\n",
    "    else:\n",
    "        print(\"No\")\n",
    "\n",
    "check_a(\"name_dede\")\n",
    "check_a(\"Kemks_ncjd\")"
   ]
  },
  {
   "cell_type": "code",
   "execution_count": 25,
   "id": "f4410eb5-0bba-4e9d-952f-ea258f5d3a9f",
   "metadata": {},
   "outputs": [
    {
     "name": "stdout",
     "output_type": "stream",
     "text": [
      "Yes\n",
      "No\n"
     ]
    }
   ],
   "source": [
    "# 4 task\n",
    "import re\n",
    "\n",
    "rule = r\"[A-Z]{1}+[a-z]+\"\n",
    "\n",
    "def check_a(a):\n",
    "    if re.fullmatch(rule, a):\n",
    "        print(\"Yes\")\n",
    "    else:\n",
    "        print(\"No\")\n",
    "\n",
    "check_a(\"Aktumar\")\n",
    "check_a(\"giromgor\")"
   ]
  },
  {
   "cell_type": "code",
   "execution_count": 29,
   "id": "f3b1a9a9-219a-432d-a7ed-0ec14e8ae5c3",
   "metadata": {},
   "outputs": [
    {
     "name": "stdout",
     "output_type": "stream",
     "text": [
      "No\n",
      "Yes\n"
     ]
    }
   ],
   "source": [
    "# 5 task\n",
    "import re\n",
    "\n",
    "rule = r\"a.+b\"\n",
    "\n",
    "def check_a(a):\n",
    "    if re.fullmatch(rule, a):\n",
    "        print(\"Yes\")\n",
    "    else:\n",
    "        print(\"No\")\n",
    "\n",
    "check_a(\"ab\")\n",
    "check_a(\"adhmb\")"
   ]
  },
  {
   "cell_type": "code",
   "execution_count": 37,
   "id": "fc9b10b4-7736-4dbd-9b51-dde7c0e9b0a9",
   "metadata": {},
   "outputs": [
    {
     "name": "stdout",
     "output_type": "stream",
     "text": [
      "Hello::What:are:you:doing::\n"
     ]
    }
   ],
   "source": [
    "# 6 task\n",
    "import re\n",
    "\n",
    "a = \"Hello. What are you doing.,\"\n",
    "print(re.sub(\"[ .,]\",\":\", a))"
   ]
  },
  {
   "cell_type": "code",
   "execution_count": null,
   "id": "24895459-0045-462a-a4e8-994aba0a5369",
   "metadata": {},
   "outputs": [],
   "source": [
    "#  7 task\n",
    "import re\n",
    "\n",
    "def snake_to_camel(text):\n",
    "    words = re.split(r'_', text)\n",
    "    \n",
    "    camel_case = words[0]  \n",
    "    for word in words[1:]:\n",
    "        camel_case += word.capitalize()  \n",
    "    \n",
    "    return camel_case\n",
    "\n",
    "print(snake_to_camel(\"hello_world_python\")) \n"
   ]
  },
  {
   "cell_type": "code",
   "execution_count": null,
   "id": "47400f6b",
   "metadata": {},
   "outputs": [],
   "source": [
    "# 8 task\n",
    "import re\n",
    "\n",
    "s = \"Hello World xexexe\"\n",
    "\n",
    "split_at_uppercase = re.split(r'(?=[A-Z])', s)  \n",
    "\n",
    "print(split_at_uppercase)"
   ]
  },
  {
   "cell_type": "code",
   "execution_count": null,
   "id": "ef095380",
   "metadata": {},
   "outputs": [],
   "source": [
    "# 9 task\n",
    "import re\n",
    "\n",
    "def insert_spaces(text):\n",
    "    return re.sub(r'(?=[A-Z])', ' ', text)\n",
    "\n",
    "print(insert_spaces(\"HelloWorldPython\")) "
   ]
  },
  {
   "cell_type": "code",
   "execution_count": null,
   "id": "92c8aecd",
   "metadata": {},
   "outputs": [],
   "source": [
    "# 10 task\n",
    "import re\n",
    "\n",
    "def camel_to_snake(text):\n",
    "    return re.sub(r'(?<!^)(?=[A-Z])', '_', text).lower()\n",
    "\n",
    "print(camel_to_snake(\"HelloWorldPython\")) "
   ]
  }
 ],
 "metadata": {
  "kernelspec": {
   "display_name": "Python [conda env:base] *",
   "language": "python",
   "name": "conda-base-py"
  },
  "language_info": {
   "codemirror_mode": {
    "name": "ipython",
    "version": 3
   },
   "file_extension": ".py",
   "mimetype": "text/x-python",
   "name": "python",
   "nbconvert_exporter": "python",
   "pygments_lexer": "ipython3",
   "version": "3.12.7"
  }
 },
 "nbformat": 4,
 "nbformat_minor": 5
}
